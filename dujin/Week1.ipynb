{
  "nbformat": 4,
  "nbformat_minor": 0,
  "metadata": {
    "colab": {
      "provenance": []
    },
    "kernelspec": {
      "name": "python3",
      "display_name": "Python 3"
    },
    "language_info": {
      "name": "python"
    }
  },
  "cells": [
    {
      "cell_type": "markdown",
      "source": [
        "# 알람시계\n",
        "\n",
        "list sequence의 인덱싱과 mutable한 성질을 이용"
      ],
      "metadata": {
        "id": "JhTALWqDDvnu"
      }
    },
    {
      "cell_type": "code",
      "source": [
        "hour = list(map(int, input().split())) # \"0 24\" --> hour = [0, 24]\n",
        "\n",
        "if hour[1] < 45 :# hour[1] = minute이므로 45분이 기점이됨\n",
        "  if hour[0] > 0: # hour[0] = hour인데, 0시가 기점이 됨\n",
        "    hour[0] = hour[0] - 1\n",
        "    hour[1] = 15 + hour[1]\n",
        "  else :\n",
        "    hour[0] = 23 # 시간이 0시이면 무조건 23시\n",
        "    hour[1] = 15 + hour[1] \n",
        "else : # hour[1]이 45분을 넘을 때는 간단\n",
        "  hour[1] = hour[1] - 45 # \n",
        "\n",
        "print(hour[0], hour[1])"
      ],
      "metadata": {
        "id": "1HdEsBgJpbH8"
      },
      "execution_count": null,
      "outputs": []
    },
    {
      "cell_type": "markdown",
      "source": [
        "# 애너그램 만들기\n",
        "\n",
        "문제\n",
        "----\n",
        "두 영어 단어가 철자의 순서를 뒤바꾸어 같아질 수 있을 때, 그러한 두 단어를 서로 애너그램 관계에 있다고 한다. 예를 들면 occurs 라는 영어 단어와 succor 는 서로 애너그램 관계에 있는데, occurs의 각 문자들의 순서를 잘 바꾸면 succor이 되기 때문이다.\n",
        "\n",
        "한 편, dared와 bread는 서로 애너그램 관계에 있지 않다. 하지만 dared에서 맨 앞의 d를 제거하고, bread에서 제일 앞의 b를 제거하면, ared와 read라는 서로 애너그램 관계에 있는 단어가 남게 된다.\n",
        "\n",
        "두 개의 영어 단어가 주어졌을 때, 두 단어가 서로 애너그램 관계에 있도록 만들기 위해서 제거해야 하는 최소 개수의 문자 수를 구하는 프로그램을 작성하시오. 문자를 제거할 때에는 아무 위치에 있는 문자든지 제거할 수 있다.\n",
        "\n",
        "입력\n",
        "----\n",
        "첫째 줄과 둘째 줄에 영어 단어가 소문자로 주어진다. 각각의 길이는 1,000자를 넘지 않으며, 적어도 한 글자로 이루어진 단어가 주어진다.\n",
        "\n",
        "출력\n",
        "----\n",
        "첫째 줄에 답을 출력한다."
      ],
      "metadata": {
        "id": "iQvL0wIrzL09"
      }
    },
    {
      "cell_type": "markdown",
      "source": [
        "## 아스키코드 활용 \n",
        "\n",
        "ord(\"a\") = 97\n",
        "...\n",
        "ord(\"z\") = 122"
      ],
      "metadata": {
        "id": "y6Rnbr_1VNds"
      }
    },
    {
      "cell_type": "code",
      "source": [
        "a = [0]*26\n",
        "b = a[:]\n",
        "ans = 0\n",
        "\n",
        "for i in input():\n",
        "    a[ord(i)-97] += 1\n",
        "for i in input():\n",
        "    b[ord(i)-97] += 1\n",
        "for i in range(26):\n",
        "    ans += abs(a[i]-b[i])\n",
        "print(ans)"
      ],
      "metadata": {
        "colab": {
          "base_uri": "https://localhost:8080/"
        },
        "id": "6mCeOWLxUWaU",
        "outputId": "128d76a8-64c0-47b2-bc94-77d77ed1beb1"
      },
      "execution_count": 103,
      "outputs": [
        {
          "output_type": "stream",
          "name": "stdout",
          "text": [
            "aabbcc\n",
            "xxyybb\n",
            "8\n"
          ]
        }
      ]
    },
    {
      "cell_type": "markdown",
      "source": [
        "## 반복문 활용"
      ],
      "metadata": {
        "id": "nJO89YJ-Y-2i"
      }
    },
    {
      "cell_type": "code",
      "source": [
        "x = input()\n",
        "y = input()\n",
        "\n",
        "result=0\n",
        "\n",
        "for i in range(len(x)):\n",
        "    for j in range(len(y)):\n",
        "        if x[i]!=\" \" and x[i] == y[j]:\n",
        "            z = x[i]\n",
        "            x = x.replace(x[i], \" \", 1)\n",
        "            y = y.replace(y[j], \" \", 1)\n",
        "            break\n",
        "\n",
        "for i in range(len(x)):\n",
        "    if x[i]!=' ':\n",
        "        result +=1\n",
        "\n",
        "for i in range(len(y)):\n",
        "    if y[i]!=' ':\n",
        "        result +=1\n",
        "\n",
        "print(result)"
      ],
      "metadata": {
        "colab": {
          "base_uri": "https://localhost:8080/"
        },
        "id": "6smnfntLX7lS",
        "outputId": "a30b161d-0f79-4996-a2e8-cc4e64e2905f"
      },
      "execution_count": 102,
      "outputs": [
        {
          "output_type": "stream",
          "name": "stdout",
          "text": [
            "aabbcc\n",
            "xxyybb\n",
            "8\n"
          ]
        }
      ]
    },
    {
      "cell_type": "markdown",
      "source": [
        "## List Comprehension 활용\n",
        "\n",
        "오답"
      ],
      "metadata": {
        "id": "-Lk8VbRoVxP-"
      }
    },
    {
      "cell_type": "code",
      "source": [
        "a = list(input())\n",
        "b = list(input())\n",
        "a1, b1 = a[:], b[:]\n",
        "\n",
        "out1 = [x for x in a if not x in b1 or b1.remove(x)]\n",
        "out2 = [x for x in a if not x in a1 or a1.remove(x)]\n",
        "print(len(out1) + len(out2))"
      ],
      "metadata": {
        "colab": {
          "base_uri": "https://localhost:8080/"
        },
        "id": "xnTAqEykMivF",
        "outputId": "fa688d88-c3ae-4632-d824-10b8440cd934"
      },
      "execution_count": 85,
      "outputs": [
        {
          "output_type": "stream",
          "name": "stdout",
          "text": [
            "abbcc\n",
            "caffd\n",
            "3\n"
          ]
        }
      ]
    },
    {
      "cell_type": "markdown",
      "source": [
        "## Lambda - filter 활용\n",
        "\n",
        "오답"
      ],
      "metadata": {
        "id": "cBkQUa99WhEH"
      }
    },
    {
      "cell_type": "code",
      "source": [
        "a = list(input())\n",
        "b = list(input())\n",
        "\n",
        "a1 = list(filter(lambda x: x in b, a))\n",
        "b1 = list(filter(lambda x: x in a, b))\n",
        "\n",
        "count = len(a) - len(a1) + len(b) - len(b1) + abs(len(a1) - len(b1))\n",
        "print(count)"
      ],
      "metadata": {
        "colab": {
          "base_uri": "https://localhost:8080/"
        },
        "id": "Ph-DgX3OV6dz",
        "outputId": "beed310b-7138-4007-e567-0ac89149a395"
      },
      "execution_count": 108,
      "outputs": [
        {
          "output_type": "stream",
          "name": "stdout",
          "text": [
            "abred\n",
            "brede\n",
            "['a', 'b', 'r', 'e', 'd']\n",
            "['b', 'r', 'e', 'd', 'e']\n",
            "['b', 'r', 'e', 'd']\n",
            "['b', 'r', 'e', 'd', 'e']\n",
            "2\n"
          ]
        }
      ]
    },
    {
      "cell_type": "markdown",
      "source": [
        "# 영화감독 숌\n",
        "\n",
        "문제\n",
        "----\n",
        "666은 종말을 나타내는 숫자라고 한다. 따라서, 많은 블록버스터 영화에서는 666이 들어간 제목을 많이 사용한다. 영화감독 숌은 세상의 종말 이라는 시리즈 영화의 감독이다. 조지 루카스는 스타워즈를 만들 때, 스타워즈 1, 스타워즈 2, 스타워즈 3, 스타워즈 4, 스타워즈 5, 스타워즈 6과 같이 이름을 지었고, 피터 잭슨은 반지의 제왕을 만들 때, 반지의 제왕 1, 반지의 제왕 2, 반지의 제왕 3과 같이 영화 제목을 지었다.\n",
        "\n",
        "하지만 숌은 자신이 조지 루카스와 피터 잭슨을 뛰어넘는다는 것을 보여주기 위해서 영화 제목을 좀 다르게 만들기로 했다.\n",
        "\n",
        "종말의 숫자란 어떤 수에 6이 적어도 3개이상 연속으로 들어가는 수를 말한다. 제일 작은 종말의 숫자는 666이고, 그 다음으로 큰 수는 1666, 2666, 3666, .... 과 같다.\n",
        "\n",
        "따라서, 숌은 첫 번째 영화의 제목은 세상의 종말 666, 두 번째 영화의 제목은 세상의 종말 1666 이렇게 이름을 지을 것이다. 일반화해서 생각하면, N번째 영화의 제목은 세상의 종말 (N번째로 작은 종말의 숫자) 와 같다.\n",
        "\n",
        "숌이 만든 N번째 영화의 제목에 들어간 숫자를 출력하는 프로그램을 작성하시오. 숌은 이 시리즈를 항상 차례대로 만들고, 다른 영화는 만들지 않는다.\n",
        "\n",
        "입력\n",
        "----\n",
        "첫째 줄에 숫자 N이 주어진다. N은 10,000보다 작거나 같은 자연수이다.\n",
        "\n",
        "출력\n",
        "----\n",
        "첫째 줄에 N번째 영화의 제목에 들어간 수를 출력한다."
      ],
      "metadata": {
        "id": "mLIRJ9q2avZB"
      }
    },
    {
      "cell_type": "markdown",
      "source": [
        "input N(N은 10000보다 작거나 같은 자연수)\n",
        "\n",
        "1. 출력 숫자에는 최소 3개의 6이 연속으로 들어가야함 -> 연속되는 data 탐색\n",
        "2. 1을 만족하는 숫자 중 N번째로 작은 숫자\n",
        "3. 2를 만족하는 숫자를 출력 "
      ],
      "metadata": {
        "id": "dYEmRfoQdqUN"
      }
    },
    {
      "cell_type": "code",
      "source": [
        "# 1 메모리 초과\n",
        "N = int(input())\n",
        "\n",
        "n = list(map(str, list(range(3000000))))\n",
        "\n",
        "ans = [x for x in n if \"666\" in x]\n",
        "print(int(ans[N-1]))"
      ],
      "metadata": {
        "colab": {
          "base_uri": "https://localhost:8080/"
        },
        "id": "JwdQ4BxbZA8c",
        "outputId": "c14b6267-777f-41ea-b6f4-6fae496b82ef"
      },
      "execution_count": 141,
      "outputs": [
        {
          "output_type": "stream",
          "name": "stdout",
          "text": [
            "10000\n",
            "2666799\n"
          ]
        }
      ]
    },
    {
      "cell_type": "code",
      "source": [
        "# 2 메모리 해결\n",
        "\n",
        "N = int(input())\n",
        "n = 666\n",
        "count = 0\n",
        "while N != count:\n",
        "  if \"666\" in str(n): # ... 166699\n",
        "    count += 1 \n",
        "    n += 1 # 667 668 ... \n",
        "  else:\n",
        "    n += 1\n",
        "    \n",
        "print(n-1)\n",
        "    "
      ],
      "metadata": {
        "colab": {
          "base_uri": "https://localhost:8080/"
        },
        "id": "iTgOx_wvkRXW",
        "outputId": "aecb09d2-0be4-426b-e91b-a652996810ce"
      },
      "execution_count": 192,
      "outputs": [
        {
          "output_type": "stream",
          "name": "stdout",
          "text": [
            "10000\n",
            "2666799\n"
          ]
        }
      ]
    },
    {
      "cell_type": "code",
      "source": [
        "# 3 유사 풀이\n",
        "N = int(input())\n",
        "n = 666\n",
        "count = 0\n",
        "while True:\n",
        "  if \"666\" in str(n): # ... 166699\n",
        "    count += 1\n",
        "    if N == count:\n",
        "      print(n) #\n",
        "      break\n",
        "    else:\n",
        "      n += 1 # 667 668 ... \n",
        "  else:\n",
        "    n += 1\n",
        "    "
      ],
      "metadata": {
        "colab": {
          "base_uri": "https://localhost:8080/"
        },
        "id": "qw4ZV_KllGOO",
        "outputId": "1f3a4c09-367c-4310-f065-1703ef80526a"
      },
      "execution_count": 194,
      "outputs": [
        {
          "output_type": "stream",
          "name": "stdout",
          "text": [
            "500\n",
            "166699\n"
          ]
        }
      ]
    }
  ]
}