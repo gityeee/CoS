{
  "nbformat": 4,
  "nbformat_minor": 0,
  "metadata": {
    "colab": {
      "provenance": [],
      "authorship_tag": "ABX9TyPx5hKP3r2B0BLEIPeK1bJz",
      "include_colab_link": true
    },
    "kernelspec": {
      "name": "python3",
      "display_name": "Python 3"
    },
    "language_info": {
      "name": "python"
    }
  },
  "cells": [
    {
      "cell_type": "markdown",
      "source": [
        "## 소수 구하기"
      ],
      "metadata": {
        "id": "ieNXqLdViLpu"
      }
    },
    {
      "cell_type": "code",
      "source": [
        "# 에라토스테네스의 체: 소수성을 판별할 때, 그 수의 제곱근까지만 약수가 아닌 것을 확인하면 된다\n",
        "M,N = map(int,input().split())\n",
        "for n in range(M,N+1):\n",
        "  if n!=1 and all(n%d!=0 for d in range(2,int(n**0.5)+1)): # 에라토스테네스의 체\n",
        "    print(n)"
      ],
      "metadata": {
        "colab": {
          "base_uri": "https://localhost:8080/"
        },
        "id": "qRV5WB-8iM9S",
        "outputId": "566728f1-88e1-413d-c903-261a005b8056"
      },
      "execution_count": null,
      "outputs": [
        {
          "output_type": "stream",
          "name": "stdout",
          "text": [
            "3 16\n",
            "3\n",
            "5\n",
            "7\n",
            "11\n",
            "13\n"
          ]
        }
      ]
    }
  ]
}
