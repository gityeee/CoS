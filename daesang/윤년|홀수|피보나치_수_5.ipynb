{
  "nbformat": 4,
  "nbformat_minor": 0,
  "metadata": {
    "colab": {
      "provenance": [],
      "authorship_tag": "ABX9TyMRBdyRL4to0qpWIHWksfSN",
      "include_colab_link": true
    },
    "kernelspec": {
      "name": "python3",
      "display_name": "Python 3"
    },
    "language_info": {
      "name": "python"
    }
  },
  "cells": [
    {
      "cell_type": "markdown",
      "source": [
        "## 윤년"
      ],
      "metadata": {
        "id": "Jigc1o0KC9og"
      }
    },
    {
      "cell_type": "code",
      "source": [
        "print(int((y:=int(input()))%4==0 and y%100!=0 or y%400==0))"
      ],
      "metadata": {
        "colab": {
          "base_uri": "https://localhost:8080/"
        },
        "id": "XIGdL2ipC9P-",
        "outputId": "85abbeaa-143a-45c3-e97c-c5771af16867"
      },
      "execution_count": null,
      "outputs": [
        {
          "output_type": "stream",
          "name": "stdout",
          "text": [
            "400\n",
            "1\n"
          ]
        }
      ]
    },
    {
      "cell_type": "markdown",
      "source": [
        "## 홀수"
      ],
      "metadata": {
        "id": "s5S_VT1IogUc"
      }
    },
    {
      "cell_type": "code",
      "source": [
        "s = 0 # 홀수 합\n",
        "m = 101 # 최소 홀수\n",
        "for l in [int(input()) for i in range(7)]: # 입력받은 7개의 수에 대해,\n",
        "  if l%2!=0: # 홀수이면,\n",
        "    s += l # 합하고\n",
        "    m = min(m,l) # 최소 홀수 갱신\n",
        "if s!=0: # 합이 0이 아니면,\n",
        "  print(s,m,sep='\\n') # 합과 최소 홀수 출력\n",
        "else: # 합이 0이면, 즉, 모두 짝수였다면,\n",
        "  print(-1) # -1 출력"
      ],
      "metadata": {
        "colab": {
          "base_uri": "https://localhost:8080/"
        },
        "id": "7QcFxcO9ohib",
        "outputId": "c541d4d4-2bc8-4b44-9892-9ce4fd7109b3"
      },
      "execution_count": null,
      "outputs": [
        {
          "output_type": "stream",
          "name": "stdout",
          "text": [
            "12\n",
            "77\n",
            "38\n",
            "41\n",
            "53\n",
            "92\n",
            "85\n",
            "256\n",
            "41\n"
          ]
        }
      ]
    },
    {
      "cell_type": "code",
      "source": [
        "e = []\n",
        "for _ in range(7):\n",
        "  if (x:=int(input()))%2:\n",
        "    e.append(x)\n",
        "print(f'{sum(e)}\\n{min(e)}' if e else -1) # 빈 리스트이면 False"
      ],
      "metadata": {
        "colab": {
          "base_uri": "https://localhost:8080/"
        },
        "id": "t7whIlqMq1Mt",
        "outputId": "8e781e7d-e335-4fbe-f690-4e9b7b7851f7"
      },
      "execution_count": null,
      "outputs": [
        {
          "output_type": "stream",
          "name": "stdout",
          "text": [
            "2\n",
            "4\n",
            "20\n",
            "32\n",
            "6\n",
            "10\n",
            "8\n",
            "-1\n"
          ]
        }
      ]
    },
    {
      "cell_type": "markdown",
      "source": [
        "## 피보나치 수 5"
      ],
      "metadata": {
        "id": "ilyY_7NmddaH"
      }
    },
    {
      "cell_type": "code",
      "source": [
        "def f(n): # 피보나치 재귀 함수\n",
        "  return f(n-1)+f(n-2) if n>1 else n # 언젠가 f(0)과 f(1)을 계산하면 각각 0과 1\n",
        "print(f(int(input())))"
      ],
      "metadata": {
        "colab": {
          "base_uri": "https://localhost:8080/"
        },
        "id": "EwZO8HERPn89",
        "outputId": "69c0456f-72ce-4539-e51f-4b8e86ad22f8"
      },
      "execution_count": null,
      "outputs": [
        {
          "output_type": "stream",
          "name": "stdout",
          "text": [
            "2\n",
            "1\n"
          ]
        }
      ]
    },
    {
      "cell_type": "code",
      "source": [
        "# 피보나치 반복문; 두 항 단위로 갱신\n",
        "a, b, n = 0, 1, int(input())\n",
        "for _ in range(n//2): # 두 항 단위로 갱신하므로 \n",
        "  a += b\n",
        "  b += a\n",
        "print((a,b)[n%2])"
      ],
      "metadata": {
        "colab": {
          "base_uri": "https://localhost:8080/"
        },
        "id": "vkqR8q8dQLvB",
        "outputId": "760f3792-f1f0-4617-dd3d-8ec4e2b9d258"
      },
      "execution_count": null,
      "outputs": [
        {
          "output_type": "stream",
          "name": "stdout",
          "text": [
            "17\n",
            "1597\n"
          ]
        }
      ]
    },
    {
      "cell_type": "code",
      "source": [
        "# 피보나치 반복문; 한 항씩 이동하면서 갱신\n",
        "a,b,n = 0,1,int(input())\n",
        "for _ in range(n-1):\n",
        "  a,b = b,a+b\n",
        "print((a,b)[n!=0]) # 0일 때만 앞 항을 출력"
      ],
      "metadata": {
        "colab": {
          "base_uri": "https://localhost:8080/"
        },
        "id": "nmrhMwtEKjZz",
        "outputId": "d79178a7-1e83-45a9-fdee-de8943e8883a"
      },
      "execution_count": null,
      "outputs": [
        {
          "output_type": "stream",
          "name": "stdout",
          "text": [
            "17\n",
            "1597\n"
          ]
        }
      ]
    }
  ]
}
