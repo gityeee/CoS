{
  "nbformat": 4,
  "nbformat_minor": 0,
  "metadata": {
    "colab": {
      "provenance": [],
      "authorship_tag": "ABX9TyMVK38vQ6JDVrvg5GV464b/"
    },
    "kernelspec": {
      "name": "python3",
      "display_name": "Python 3"
    },
    "language_info": {
      "name": "python"
    }
  },
  "cells": [
    {
      "cell_type": "markdown",
      "source": [
        "# 컵홀더"
      ],
      "metadata": {
        "id": "gZ78CC5BXl-j"
      }
    },
    {
      "cell_type": "code",
      "execution_count": 20,
      "metadata": {
        "colab": {
          "base_uri": "https://localhost:8080/"
        },
        "id": "pitOC_nZKSGp",
        "outputId": "f216f535-9498-4256-b668-47ae6ca94fbe"
      },
      "outputs": [
        {
          "output_type": "stream",
          "name": "stdout",
          "text": [
            "9\n",
            "SLLLLSSLL\n",
            "7\n"
          ]
        }
      ],
      "source": [
        "N = int(input())\n",
        "print(min(N,N+1-input().count('LL')))"
      ]
    },
    {
      "cell_type": "markdown",
      "source": [
        "# 캠핑"
      ],
      "metadata": {
        "id": "5queGU7JXn1B"
      }
    },
    {
      "cell_type": "code",
      "source": [
        "i = 1\n",
        "while True:\n",
        "  L,P,V = map(int,input().split())\n",
        "  if L==0:\n",
        "    break\n",
        "  print(f'Case {i}: {V//P*L+min(V%P,L)}')\n",
        "  i += 1"
      ],
      "metadata": {
        "colab": {
          "base_uri": "https://localhost:8080/"
        },
        "id": "gASZJvoyXohg",
        "outputId": "529f9638-399c-4940-b9c8-35b5dfed9dc4"
      },
      "execution_count": 27,
      "outputs": [
        {
          "name": "stdout",
          "output_type": "stream",
          "text": [
            "5 8 20\n",
            "Case 1: 14\n",
            "5 8 17\n",
            "Case 2: 11\n",
            "0 0 0\n"
          ]
        }
      ]
    },
    {
      "cell_type": "code",
      "source": [
        "i = 1\n",
        "while (T:=input())>'1':\n",
        "  L,P,V = map(int,T.split())\n",
        "  print(f'Case {i}: {V//P*L+min(V%P,L)}')\n",
        "  i += 1"
      ],
      "metadata": {
        "colab": {
          "base_uri": "https://localhost:8080/"
        },
        "id": "QpZPvnRjasAr",
        "outputId": "cda48333-1e99-46a4-b27d-f121799ba474"
      },
      "execution_count": 33,
      "outputs": [
        {
          "name": "stdout",
          "output_type": "stream",
          "text": [
            "5 8 20\n",
            "Case 1: 14\n",
            "5 8 17\n",
            "Case 2: 11\n",
            "0 0 0\n"
          ]
        }
      ]
    }
  ]
}