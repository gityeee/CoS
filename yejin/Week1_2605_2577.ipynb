{
  "nbformat": 4,
  "nbformat_minor": 0,
  "metadata": {
    "colab": {
      "provenance": []
    },
    "kernelspec": {
      "name": "python3",
      "display_name": "Python 3"
    },
    "language_info": {
      "name": "python"
    }
  },
  "cells": [
    {
      "cell_type": "markdown",
      "source": [
        "# Baekjoon Week1"
      ],
      "metadata": {
        "id": "InqDztkoq7UE"
      }
    },
    {
      "cell_type": "markdown",
      "source": [
        "## Bronze2 | 2605번: 줄 세우기"
      ],
      "metadata": {
        "id": "nR31SyjWq-Bj"
      }
    },
    {
      "cell_type": "code",
      "execution_count": null,
      "metadata": {
        "colab": {
          "base_uri": "https://localhost:8080/"
        },
        "id": "WIydP6Wc1mF2",
        "outputId": "0d1cf6f2-93c0-4d72-a7d0-b7e8059987bc"
      },
      "outputs": [
        {
          "output_type": "stream",
          "name": "stdout",
          "text": [
            "5\n",
            "0 1 1 3 2\n",
            "4 2 5 3 1\n"
          ]
        }
      ],
      "source": [
        "# 2605\n",
        "\n",
        "N = map(int, input())\n",
        "nums = list(map(int, input().split()))\n",
        "\n",
        "idx = 1   # 첫번째 학생=1\n",
        "line = [idx]  # 첫번째 학생은 일단 처음으로\n",
        "\n",
        "for num in (nums[1:]):   # 두번째 학생부터\n",
        "  idx += 1  #두번째 학생=2, 세번째 학생=3, ...\n",
        "\n",
        "  if num > 0:  # 번호가 0보다 크면 번호 크기만큼 앞으로 (>> 조건문 불필요)\n",
        "    line.insert(idx-1-num, idx)    # 리스트 특정 위치에 값 추가: list.insert(위치, 값)\n",
        "  else:      # 번호가 0이면 가장 마지막에\n",
        "    line.append(idx)\n",
        "\n",
        "print(' '.join(map(str, line)))"
      ]
    },
    {
      "cell_type": "code",
      "source": [
        "# 2605 - 개선\n",
        "\n",
        "N = int(input())\n",
        "nums = list(map(int, input().split()))\n",
        "\n",
        "line = []  # 학생들의 순서를 담을 리스트 생성\n",
        "\n",
        "for i in range(N):  # 학생들의 수만큼 반복\n",
        "  line.insert(i-nums[i], i+1)  # 각 학생들의 순서에서 뽑은 번호만큼 앞으로 이동\n",
        "\n",
        "print(*line)  # 리스트 요소 한번에 출력 print(*list)"
      ],
      "metadata": {
        "colab": {
          "base_uri": "https://localhost:8080/"
        },
        "id": "RabrnN5Vjj_3",
        "outputId": "3bba8c9b-698a-4a4a-9d57-22fe57f93d49"
      },
      "execution_count": null,
      "outputs": [
        {
          "output_type": "stream",
          "name": "stdout",
          "text": [
            "5\n",
            "0 1 1 3 2\n",
            "4 2 5 3 1\n"
          ]
        }
      ]
    },
    {
      "cell_type": "markdown",
      "source": [
        "## Bronze2 | 2577번: 숫자의 개수"
      ],
      "metadata": {
        "id": "Le4a736PIV_o"
      }
    },
    {
      "cell_type": "code",
      "source": [
        "A = int(input())\n",
        "B = int(input())\n",
        "C = int(input())\n",
        "\n",
        "ABC = str(A*B*C)\n",
        "\n",
        "for i in range(10):   # 0~9\n",
        "  print(ABC.count(str(i)))  # 문자열에서 특정 문자 개수 세기: 문자열.count(문자)"
      ],
      "metadata": {
        "colab": {
          "base_uri": "https://localhost:8080/"
        },
        "id": "oz5UTx_ZHnBY",
        "outputId": "6843a9b1-1c0b-48d8-c4ea-f3cd194d7257"
      },
      "execution_count": null,
      "outputs": [
        {
          "output_type": "stream",
          "name": "stdout",
          "text": [
            "150\n",
            "266\n",
            "427\n",
            "3\n",
            "1\n",
            "0\n",
            "2\n",
            "0\n",
            "0\n",
            "0\n",
            "2\n",
            "0\n",
            "0\n"
          ]
        }
      ]
    },
    {
      "cell_type": "code",
      "source": [],
      "metadata": {
        "id": "zy0Tibd5KIrR"
      },
      "execution_count": null,
      "outputs": []
    }
  ]
}