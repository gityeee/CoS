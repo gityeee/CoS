{
  "nbformat": 4,
  "nbformat_minor": 0,
  "metadata": {
    "colab": {
      "provenance": []
    },
    "kernelspec": {
      "name": "python3",
      "display_name": "Python 3"
    },
    "language_info": {
      "name": "python"
    }
  },
  "cells": [
    {
      "cell_type": "markdown",
      "source": [
        "# 그리디 구현"
      ],
      "metadata": {
        "id": "WtU1kdVn9dZw"
      }
    },
    {
      "cell_type": "markdown",
      "source": [
        "## Bronze1 | 2810번: 컵홀더"
      ],
      "metadata": {
        "id": "83RXhKJB-Dgj"
      }
    },
    {
      "cell_type": "code",
      "source": [
        "# 2810\n",
        "\n",
        "N = int(input())\n",
        "seats = str(input())  # S: 일반좌석 | L: 커플좌석\n",
        "\n",
        "LL_num = seats.count('L')/2  #커플좌석 LL 개수\n",
        "S_num = seats.count('S')  #일반좌석 S 개수\n",
        "\n",
        "if S_num == N:   #컵홀더가 더 많아도 이용할 수 있는 사람은 N명뿐\n",
        "  print(N)\n",
        "else:\n",
        "  cup = LL_num + S_num + 1  #맨처음 컵홀더 한개 추가\n",
        "  print(int(cup))"
      ],
      "metadata": {
        "colab": {
          "base_uri": "https://localhost:8080/"
        },
        "id": "iBStWxMROFnM",
        "outputId": "a2669b71-e499-466b-ad23-dcb49a95a5b5"
      },
      "execution_count": null,
      "outputs": [
        {
          "output_type": "stream",
          "name": "stdout",
          "text": [
            "9\n",
            "SLLLLSSLL\n",
            "7\n"
          ]
        }
      ]
    },
    {
      "cell_type": "markdown",
      "source": [
        "## Bronze1 | 4796번: 캠핑"
      ],
      "metadata": {
        "id": "sEOf4IvOVBAz"
      }
    },
    {
      "cell_type": "code",
      "source": [
        "# 4796 캠핑\n",
        "\n",
        "# 데이터 입력 받기\n",
        "cases = []   #모든 케이스를 담을 리스트 만들기\n",
        "c = []   #각각의 케이스를 입력 받을 리스트 만들기\n",
        "while all(c) != 0:   #각 케이스의 숫자가 모두 0인 경우 반복 종료\n",
        "  c = list(map(int, input().split()))\n",
        "  if all(c) == 0:   #0 0 0 인 경우 반복 종료\n",
        "    break\n",
        "  cases.append(c)\n",
        "\n",
        "for i in range(len(cases)):\n",
        "  L = cases[i][0]\n",
        "  P = cases[i][1]\n",
        "  V = cases[i][2]\n",
        "  # 연속하는 P일 중, L일동안만 사용할 수 있고, 이제 막 V일짜리 휴가를 시작\n",
        "\n",
        "  use = V//P * L\n",
        "  if V%P > L:\n",
        "    use += L\n",
        "  else:\n",
        "    use += V%P\n",
        "  print('Case {}: {}'.format(i+1, use))"
      ],
      "metadata": {
        "id": "BR1yRSQkVNCN",
        "colab": {
          "base_uri": "https://localhost:8080/"
        },
        "outputId": "b3349318-8ad9-47fd-9237-2a74a162f1da"
      },
      "execution_count": 14,
      "outputs": [
        {
          "output_type": "stream",
          "name": "stdout",
          "text": [
            "5 8 20\n",
            "5 11 20\n",
            "0 0 0\n",
            "Case 1: 14\n",
            "Case 2: 10\n"
          ]
        }
      ]
    },
    {
      "cell_type": "code",
      "source": [
        "# 4796 캠핑 - 개선\n",
        "\n",
        "i = 0  #각 케이스의 번호를 매기기 위해 초기값 0으로 설정\n",
        "while True:\n",
        "  i += 1  #각 케이스 번호\n",
        "  L, P, V = map(int, input().split())\n",
        "  if L==0 and P==0 and V==0:   #0 0 0인 경우 반복 종료\n",
        "    break\n",
        "  use = V//P * L   #P일을 모두 이용할 수 있는 횟수(L//P)에서 실제 이용일수 L을 곱함\n",
        "  if V%P > L:   #남은 일수(V%P)가 실제 이용일수(L)보다 크면\n",
        "    use += L    #L일만 더해줌\n",
        "  else:\n",
        "    use += V%P\n",
        "  \n",
        "  print('Case {}: {}'.format(i, use))"
      ],
      "metadata": {
        "colab": {
          "base_uri": "https://localhost:8080/"
        },
        "id": "bRry65HimHTh",
        "outputId": "6cf4a55b-d192-4fff-cdcf-4a01e9678917"
      },
      "execution_count": 16,
      "outputs": [
        {
          "name": "stdout",
          "output_type": "stream",
          "text": [
            "5 8 20\n",
            "Case 1: 14\n",
            "5 11 20\n",
            "Case 2: 10\n",
            "0 0 0\n"
          ]
        }
      ]
    },
    {
      "cell_type": "markdown",
      "source": [
        "## Silver5 | 14916번: 거스름돈"
      ],
      "metadata": {
        "id": "VSTjIDOGw10h"
      }
    },
    {
      "cell_type": "code",
      "source": [
        "# 14916 거스름돈\n",
        "\n",
        "n = int(input())\n",
        "\n",
        "coin = 0\n",
        "while True:\n",
        "  if n%5 == 0:    #5의 배수이면\n",
        "    coin += n//5  #5의 몫만큼 동전개수에 추가하고 반복 종료\n",
        "    break\n",
        "  else:       #5의 배수가 아니라면\n",
        "    n -= 2    #2원 빼줌\n",
        "    coin += 1 #동전개수 +1\n",
        "\n",
        "  if n < 0:   #5원과 2원으로 거슬러줄 수 없으면 반복 종료\n",
        "    break\n",
        "\n",
        "if n < 0:\n",
        "  print(-1)\n",
        "else:\n",
        "  print(coin)"
      ],
      "metadata": {
        "colab": {
          "base_uri": "https://localhost:8080/"
        },
        "id": "rViUL0VioF2A",
        "outputId": "09af0bf4-26e3-4a9c-f67e-ed409c178a5f"
      },
      "execution_count": 7,
      "outputs": [
        {
          "output_type": "stream",
          "name": "stdout",
          "text": [
            "1\n",
            "-1\n"
          ]
        }
      ]
    },
    {
      "cell_type": "code",
      "source": [],
      "metadata": {
        "id": "xyDrUeP1wiMP"
      },
      "execution_count": null,
      "outputs": []
    }
  ]
}