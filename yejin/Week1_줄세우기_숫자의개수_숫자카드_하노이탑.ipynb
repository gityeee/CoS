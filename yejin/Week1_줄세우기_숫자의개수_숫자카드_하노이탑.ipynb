{
  "nbformat": 4,
  "nbformat_minor": 0,
  "metadata": {
    "colab": {
      "provenance": []
    },
    "kernelspec": {
      "name": "python3",
      "display_name": "Python 3"
    },
    "language_info": {
      "name": "python"
    }
  },
  "cells": [
    {
      "cell_type": "markdown",
      "source": [
        "# Baekjoon Week1"
      ],
      "metadata": {
        "id": "InqDztkoq7UE"
      }
    },
    {
      "cell_type": "markdown",
      "source": [
        "## Bronze2 | 2605번: 줄 세우기"
      ],
      "metadata": {
        "id": "nR31SyjWq-Bj"
      }
    },
    {
      "cell_type": "code",
      "execution_count": null,
      "metadata": {
        "colab": {
          "base_uri": "https://localhost:8080/"
        },
        "id": "WIydP6Wc1mF2",
        "outputId": "0d1cf6f2-93c0-4d72-a7d0-b7e8059987bc"
      },
      "outputs": [
        {
          "output_type": "stream",
          "name": "stdout",
          "text": [
            "5\n",
            "0 1 1 3 2\n",
            "4 2 5 3 1\n"
          ]
        }
      ],
      "source": [
        "# 2605\n",
        "\n",
        "N = map(int, input())\n",
        "nums = list(map(int, input().split()))\n",
        "\n",
        "idx = 1   # 첫번째 학생=1\n",
        "line = [idx]  # 첫번째 학생은 일단 처음으로\n",
        "\n",
        "for num in (nums[1:]):   # 두번째 학생부터\n",
        "  idx += 1  #두번째 학생=2, 세번째 학생=3, ...\n",
        "\n",
        "  if num > 0:  # 번호가 0보다 크면 번호 크기만큼 앞으로 (>> 조건문 불필요)\n",
        "    line.insert(idx-1-num, idx)    # 리스트 특정 위치에 값 추가: list.insert(위치, 값)\n",
        "  else:      # 번호가 0이면 가장 마지막에\n",
        "    line.append(idx)\n",
        "\n",
        "print(' '.join(map(str, line)))"
      ]
    },
    {
      "cell_type": "code",
      "source": [
        "# 2605 - 개선\n",
        "\n",
        "N = int(input())\n",
        "nums = list(map(int, input().split()))\n",
        "\n",
        "line = []  # 학생들의 순서를 담을 리스트 생성\n",
        "\n",
        "for i in range(N):  # 학생들의 수만큼 반복\n",
        "  line.insert(i-nums[i], i+1)  # 각 학생들의 순서에서 뽑은 번호만큼 앞으로 이동\n",
        "\n",
        "print(*line)  # 리스트 요소 한번에 출력 print(*list)"
      ],
      "metadata": {
        "colab": {
          "base_uri": "https://localhost:8080/"
        },
        "id": "RabrnN5Vjj_3",
        "outputId": "3bba8c9b-698a-4a4a-9d57-22fe57f93d49"
      },
      "execution_count": null,
      "outputs": [
        {
          "output_type": "stream",
          "name": "stdout",
          "text": [
            "5\n",
            "0 1 1 3 2\n",
            "4 2 5 3 1\n"
          ]
        }
      ]
    },
    {
      "cell_type": "markdown",
      "source": [
        "## Bronze2 | 2577번: 숫자의 개수"
      ],
      "metadata": {
        "id": "Le4a736PIV_o"
      }
    },
    {
      "cell_type": "code",
      "source": [
        "A = int(input())\n",
        "B = int(input())\n",
        "C = int(input())\n",
        "\n",
        "ABC = str(A*B*C)\n",
        "\n",
        "for i in range(10):   # 0~9\n",
        "  print(ABC.count(str(i)))  # 문자열에서 특정 문자 개수 세기: 문자열.count(문자)"
      ],
      "metadata": {
        "colab": {
          "base_uri": "https://localhost:8080/"
        },
        "id": "oz5UTx_ZHnBY",
        "outputId": "6843a9b1-1c0b-48d8-c4ea-f3cd194d7257"
      },
      "execution_count": null,
      "outputs": [
        {
          "output_type": "stream",
          "name": "stdout",
          "text": [
            "150\n",
            "266\n",
            "427\n",
            "3\n",
            "1\n",
            "0\n",
            "2\n",
            "0\n",
            "0\n",
            "0\n",
            "2\n",
            "0\n",
            "0\n"
          ]
        }
      ]
    },
    {
      "cell_type": "markdown",
      "source": [
        "## Silver5 | 10815번: 숫자 카드"
      ],
      "metadata": {
        "id": "iHRsN_4hp9N0"
      }
    },
    {
      "cell_type": "code",
      "source": [
        "# 시간초과\n",
        "N = int(input())\n",
        "cards = list(map(int, input().split()))  # 상근이가 가지고 있는 숫자 카드\n",
        "\n",
        "M = int(input())\n",
        "nums = list(map(int, input().split()))  # 비교할 숫자\n",
        "\n",
        "res = [] \n",
        "\n",
        "for i in range(M):\n",
        "  if nums[i] in cards:  # 상근 숫자 카드에 있으면\n",
        "    res.append(1)\n",
        "  else: # 상근 숫자 카드에 없으면\n",
        "    res.append(0)\n",
        "\n",
        "print(*res)"
      ],
      "metadata": {
        "id": "zy0Tibd5KIrR",
        "colab": {
          "base_uri": "https://localhost:8080/"
        },
        "outputId": "8061a37c-3ba3-432d-e2c7-1c5a307a1aa5"
      },
      "execution_count": null,
      "outputs": [
        {
          "output_type": "stream",
          "name": "stdout",
          "text": [
            "5\n",
            "6 3 2 10 -10\n",
            "8\n",
            "10 9 -5 2 3 4 5 -10\n",
            "1 0 0 1 1 0 0 1\n"
          ]
        }
      ]
    },
    {
      "cell_type": "code",
      "source": [
        "# 시간초과\n",
        "N = int(input())\n",
        "cards = list(map(int, input().split()))  # 상근이가 가지고 있는 숫자 카드\n",
        "\n",
        "M = int(input())\n",
        "nums = list(map(int, input().split()))  # 비교할 숫자\n",
        "\n",
        "res = [1 if num in cards else 0 for num in nums]\n",
        "\n",
        "print(*res)"
      ],
      "metadata": {
        "colab": {
          "base_uri": "https://localhost:8080/"
        },
        "id": "NP7LeeLBut6H",
        "outputId": "a90c465a-8ef2-4487-8185-334be9d6373d"
      },
      "execution_count": null,
      "outputs": [
        {
          "output_type": "stream",
          "name": "stdout",
          "text": [
            "5\n",
            "6 3 2 10 -10\n",
            "8\n",
            "10 9 -5 2 3 4 5 -10\n",
            "1 0 0 1 1 0 0 1\n"
          ]
        }
      ]
    },
    {
      "cell_type": "markdown",
      "source": [
        "문제 해결 방법  \n",
        "1. dictionary  \n",
        "   list의 경우 시간이 자료의 크기에 비례하여 늘어나지만 dictionary의 경우 거의 일정한 시간으로 탐색\n",
        "2. 이진 탐색"
      ],
      "metadata": {
        "id": "gXKYoeVKF4vQ"
      }
    },
    {
      "cell_type": "code",
      "source": [
        "# 1. dictionary\n",
        "\n",
        "N = int(input())\n",
        "cards = list(map(int, input().split()))  # 상근이가 가지고 있는 숫자 카드\n",
        "\n",
        "M = int(input())\n",
        "checks = list(map(int, input().split()))  # 비교할 숫자\n",
        "\n",
        "dic = {}\n",
        "for i in range(len(cards)):\n",
        "  dic[cards[i]] = 0   # 아무 숫자로 mapping | key=카드숫자 : values=0\n",
        "\n",
        "for j in range(M):\n",
        "  if checks[j] not in dic:  # 체크할 숫자가 카드 딕셔너리에 없으면\n",
        "    print(0, end=' ')\n",
        "  else:\n",
        "    print(1, end=' ')"
      ],
      "metadata": {
        "id": "rygryYQQxeXR",
        "colab": {
          "base_uri": "https://localhost:8080/"
        },
        "outputId": "1cdcd8db-648b-4d92-f7ea-48995b888180"
      },
      "execution_count": null,
      "outputs": [
        {
          "output_type": "stream",
          "name": "stdout",
          "text": [
            "5\n",
            "6 3 2 10 -10\n",
            "8\n",
            "10 9 -5 2 3 4 5 -10\n",
            "1 0 0 1 1 0 0 1 "
          ]
        }
      ]
    },
    {
      "cell_type": "code",
      "source": [
        "dic"
      ],
      "metadata": {
        "colab": {
          "base_uri": "https://localhost:8080/"
        },
        "id": "4RA9zO3uIEtY",
        "outputId": "3dfc5dd3-95d8-43d7-f983-1fbbd1de8010"
      },
      "execution_count": null,
      "outputs": [
        {
          "output_type": "execute_result",
          "data": {
            "text/plain": [
              "{6: 0, 3: 0, 2: 0, 10: 0, -10: 0}"
            ]
          },
          "metadata": {},
          "execution_count": 10
        }
      ]
    },
    {
      "cell_type": "markdown",
      "source": [
        "### 이진탐색(Binary Search)\n",
        "- 정렬된 자료를 반으로 나누어 탐색하는 방법\n",
        "- 주의점: 자료를 <b>오름차순</b>으로 정렬된 자료여야 함\n",
        "- 구현 방법  \n",
        "  - 자료의 중간값이 찾고자 하는 값인지 검사\n",
        "  - 아니라면 대소관계를 비교하여 처음값과 마지막값 이동\n",
        "  - 동일 연산 반복\n",
        "- 시간복잡도 O(logN)  \n",
        "  - cf) 순차검색(linear search): O(N)\n",
        "<img src=\"https://wayhome25.github.io/assets/post-img/cs/logn.png\"></img>\n",
        "\n",
        "참고) \n",
        "- http://jwoop.tistory.com/9\n",
        "- https://wayhome25.github.io/cs/2017/04/15/cs-16/"
      ],
      "metadata": {
        "id": "iW89pboqLuS8"
      }
    },
    {
      "cell_type": "code",
      "source": [
        "# 2. 이진 탐색\n",
        "\n",
        "N = int(input())\n",
        "# 자료 정렬 필수!!\n",
        "cards = sorted(list(map(int, input().split()))) # 상근이가 가지고 있는 숫자 카드\n",
        "\n",
        "M = int(input())\n",
        "checks = list(map(int, input().split()))    # 비교할 숫자\n",
        "\n",
        "for check in checks:\n",
        "    first, last = 0, N-1    # cards의 이진 탐색 index 초기값\n",
        "    exist = False\n",
        "\n",
        "    while first <= last:         # first가 last 보다 작을 때까지 반복\n",
        "        mid = (first + last) // 2\n",
        "        if cards[mid] > check:   # 중간 값보다 작다면\n",
        "            last = mid - 1       # 중간보다 왼쪽 한 칸 옆까지 탐색\n",
        "        elif cards[mid] < check:   # 중간 값보다 크다면\n",
        "            first = mid + 1        # 중간보다 오른쪽 한 칸 옆부터 탐색\n",
        "        else:                    # check = 중간값\n",
        "            exist = True\n",
        "            break\n",
        "            # 끝까지 없으면 exist=그대로 False\n",
        "    \n",
        "    print(1 if exist else 0, end=' ')"
      ],
      "metadata": {
        "colab": {
          "base_uri": "https://localhost:8080/"
        },
        "id": "RgOeFqQwIa-v",
        "outputId": "a4a506c9-2b6c-4777-92f9-82009165053c"
      },
      "execution_count": null,
      "outputs": [
        {
          "output_type": "stream",
          "name": "stdout",
          "text": [
            "5\n",
            "6 3 2 10 -10\n",
            "8\n",
            "10 9 -5 2 3 4 5 -10\n",
            "1 0 0 1 1 0 0 1 "
          ]
        }
      ]
    },
    {
      "cell_type": "markdown",
      "source": [
        "## Silver1 | 11729번: 하노이 탑 이동 순서"
      ],
      "metadata": {
        "id": "dDQEdbTSO8E6"
      }
    },
    {
      "cell_type": "markdown",
      "source": [
        "참고)  \n",
        "영상: https://www.youtube.com/watch?v=FYCGV6F1NuY  \n",
        "https://leedakyeong.tistory.com/entry/%EB%B0%B1%EC%A4%80-python-11729%EB%B2%88-%ED%95%98%EB%85%B8%EC%9D%B4-%ED%83%91-%EC%9D%B4%EB%8F%99-%EC%88%9C%EC%84%9Chanoi-top-in-python"
      ],
      "metadata": {
        "id": "OyFeW0S08i13"
      }
    },
    {
      "cell_type": "code",
      "source": [
        "N = int(input())\n",
        "\n",
        "def hanoi(N, from_pos, to_pos, assist_pos):\n",
        "  if N == 1:  # 원반이 한 개면 그냥 옮기면 됨\n",
        "    move.append([from_pos, to_pos])\n",
        "    return  # 함수종료\n",
        "\n",
        "  # 가장 큰 원반을 제외하고 나머지 원반 N-1개를 assist_pos로 이동(to_pos를 보조 장대로)\n",
        "  hanoi(N-1, from_pos, assist_pos, to_pos)\n",
        "  # 가장 큰 원반을 목표로 이동\n",
        "  move.append([from_pos, to_pos])\n",
        "  # assist_pos에 있는 원반 N-1개를 목표로 이동(from_pos를 보조 장대로)\n",
        "  hanoi(N-1, assist_pos, to_pos, from_pos)\n",
        "\n",
        "move = []\n",
        "hanoi(N, 1, 3, 2)\n",
        "\n",
        "print(len(move))  #총 이동 횟수\n",
        "for i in range(len(move)):\n",
        "  print(*move[i])"
      ],
      "metadata": {
        "id": "7X25TRnHC4TS",
        "colab": {
          "base_uri": "https://localhost:8080/"
        },
        "outputId": "f326cd0c-b7cc-416e-8316-7a69f9190635"
      },
      "execution_count": 5,
      "outputs": [
        {
          "output_type": "stream",
          "name": "stdout",
          "text": [
            "3\n",
            "7\n",
            "1 3\n",
            "1 2\n",
            "3 2\n",
            "1 3\n",
            "2 1\n",
            "2 3\n",
            "1 3\n"
          ]
        }
      ]
    },
    {
      "cell_type": "code",
      "source": [],
      "metadata": {
        "id": "YNSvrAZP7kQH"
      },
      "execution_count": null,
      "outputs": []
    }
  ]
}